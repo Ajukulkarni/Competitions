{
 "cells": [
  {
   "cell_type": "markdown",
   "id": "minute-livestock",
   "metadata": {},
   "source": [
    "1.  import all packages\n",
    "2.  import data\n",
    "3.  remove duplicates\n",
    "4.  check data(head,shape,info,describe)\n",
    "5.  identify Target variable and check distribution (plot the graph,value_count,heatmap for null values,bar plot,\n",
    "    histogram, kde plot etc)\n",
    "6.  treatment of outliers and null values\n",
    "7.  check all the categorical and numerical columns\n",
    "8.  check for null values and do treatement of null values\n",
    "9.  univariate analysis of categorical columns(pi chart, box plot)\n",
    "10. univariate analysis of numerical columns(histogram,kde)\n",
    "11. bivariate analysis wrt Target column:\n",
    "        * numerical - numerical     : scatter plot, corelation\n",
    "        * numerical - categorical   : boxplot, Anova \n",
    "        * categorical - categorical : crossplot, chi-square\n",
    "12. feature engineering\n",
    "13. convert categorical to numerical (use dictionary or one_hot encoding or other techniques)\n",
    "14. feature selection\n",
    "15. standardization or normalization\n",
    "16. train_test_split\n",
    "17. run the various models\n",
    "18. perform cross validations of all the model (hyperparameter tunning: Greedserchcv,Random search, StratifiedKFold)\n",
    "    Ensembaling\n",
    "19. use acuracy matrics as mape, mse, rmse for numerical column\n",
    "20. use f1-score and confusion matrix for categorical column\n",
    "21. finalise model \n",
    "22. Create Pipeline of the model\n",
    "23. run the model on entire data\n",
    "24. model ready for deployment\n"
   ]
  },
  {
   "cell_type": "markdown",
   "id": "awful-british",
   "metadata": {},
   "source": [
    "### other required operations"
   ]
  },
  {
   "cell_type": "markdown",
   "id": "varying-instrument",
   "metadata": {},
   "source": [
    "1. hypthesis generation\n",
    "2. teting of hypothesis\n",
    "3. conclude the hypothesis\n",
    "\n",
    "4. based on hypothesis, can perform bivariate analysis between all the variables"
   ]
  },
  {
   "cell_type": "markdown",
   "id": "biological-grammar",
   "metadata": {},
   "source": [
    "### Explain each step "
   ]
  },
  {
   "cell_type": "code",
   "execution_count": null,
   "id": "portable-headset",
   "metadata": {},
   "outputs": [],
   "source": []
  },
  {
   "cell_type": "code",
   "execution_count": null,
   "id": "finished-actress",
   "metadata": {},
   "outputs": [],
   "source": []
  }
 ],
 "metadata": {
  "kernelspec": {
   "display_name": "Python 3",
   "language": "python",
   "name": "python3"
  },
  "language_info": {
   "codemirror_mode": {
    "name": "ipython",
    "version": 3
   },
   "file_extension": ".py",
   "mimetype": "text/x-python",
   "name": "python",
   "nbconvert_exporter": "python",
   "pygments_lexer": "ipython3",
   "version": "3.7.2"
  }
 },
 "nbformat": 4,
 "nbformat_minor": 5
}
